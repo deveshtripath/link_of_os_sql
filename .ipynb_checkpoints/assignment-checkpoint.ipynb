{
 "cells": [
  {
   "cell_type": "markdown",
   "metadata": {},
   "source": [
    "#### The shutil module offers a number of high-level operations on files and collections of files. In particular, functions are provided which support file copying and removal. For operations on individual files, see also the os module."
   ]
  },
  {
   "cell_type": "code",
   "execution_count": 1,
   "metadata": {},
   "outputs": [],
   "source": [
    "from time import sleep\n",
    "import os\n",
    "import pymysql\n",
    "import warnings\n",
    "warnings.filterwarnings('ignore')\n",
    "import shutil"
   ]
  },
  {
   "cell_type": "code",
   "execution_count": 84,
   "metadata": {},
   "outputs": [],
   "source": [
    "class Folders:\n",
    "    def __init__(self):\n",
    "        self.Queuee = \"Queuee\"\n",
    "        self.Processing = \"Processing\"\n",
    "        self.Processed = \"Processedd\"\n",
    "\n",
    "        if(os.path.exists(self.Queuee)) and (os.path.exists(self.Processed)) and (os.path.exists(self.Processing)):\n",
    "            shutil.rmtree(self.Queuee)\n",
    "            shutil.rmtree(self.Processing)\n",
    "            shutil.rmtree(self.Processed)\n",
    "            \n",
    "            os.mkdir(self.Queuee)\n",
    "            os.mkdir(self.Processing)\n",
    "            os.mkdir(self.Processed)\n",
    "        else:\n",
    "            os.mkdir(self.Queuee)\n",
    "            os.mkdir(self.Processing)\n",
    "            os.mkdir(self.Processed)"
   ]
  },
  {
   "cell_type": "code",
   "execution_count": 77,
   "metadata": {},
   "outputs": [],
   "source": [
    "from threading import *\n",
    "class Processing(Thread):\n",
    "    def run(self):\n",
    "        i = 1\n",
    "        while(True):\n",
    "            open(\"Processing/files\"+str(i)+\".txt\",\"w\")\n",
    "            i += 1\n",
    "            sleep(1)"
   ]
  },
  {
   "cell_type": "code",
   "execution_count": 78,
   "metadata": {},
   "outputs": [],
   "source": [
    "class Queuee(Thread):\n",
    "    def run(self):\n",
    "        src = 'Processing'\n",
    "        dest = 'Queuee'\n",
    "        while(True):\n",
    "            if len(os.listdir(src)) == 5: \n",
    "                for file in os.listdir(src):\n",
    "                    file_name = os.path.join(src, file)\n",
    "                    shutil.move(file_name, dest)"
   ]
  },
  {
   "cell_type": "code",
   "execution_count": 86,
   "metadata": {},
   "outputs": [],
   "source": [
    "class Processed(Thread):\n",
    "    def run(self):\n",
    "        dest = 'Processed'\n",
    "        src = 'Queuee'\n",
    "       \n",
    "        while(True):\n",
    "            sleep(2)\n",
    "            if len(os.listdir(src)) != 0:\n",
    "                for file in os.listdir(src):\n",
    "                    con=pymysql.connect(host='localhost',user='root',password='',database='assignmentWork')\n",
    "                    cur=con.cursor()\n",
    "                    cur.execute('insert into files values(%s,%s)',(file,\"We are working on data\"))\n",
    "                    con.commit()\n",
    "                    con.close()\n",
    "                    file_name = os.path.join(src, file)\n",
    "                    shutil.move(file_name, dest)"
   ]
  },
  {
   "cell_type": "code",
   "execution_count": 87,
   "metadata": {},
   "outputs": [],
   "source": [
    "f = Folders()"
   ]
  },
  {
   "cell_type": "code",
   "execution_count": 88,
   "metadata": {},
   "outputs": [],
   "source": [
    "ProcessingData = Processing()\n",
    "ProcessingData.start()"
   ]
  },
  {
   "cell_type": "code",
   "execution_count": 89,
   "metadata": {},
   "outputs": [],
   "source": [
    "QueueData = Queuee()\n",
    "QueueData.start()"
   ]
  },
  {
   "cell_type": "code",
   "execution_count": 91,
   "metadata": {},
   "outputs": [],
   "source": [
    "ProcessedData = Processed()\n",
    "ProcessedData.start()"
   ]
  },
  {
   "cell_type": "code",
   "execution_count": null,
   "metadata": {},
   "outputs": [],
   "source": []
  },
  {
   "cell_type": "code",
   "execution_count": null,
   "metadata": {},
   "outputs": [],
   "source": []
  },
  {
   "cell_type": "markdown",
   "metadata": {},
   "source": [
    "##### A Thread or a Thread of Execution is defined in computer science as the smallest unit that can be scheduled in an operating system."
   ]
  },
  {
   "cell_type": "code",
   "execution_count": null,
   "metadata": {},
   "outputs": [],
   "source": []
  }
 ],
 "metadata": {
  "kernelspec": {
   "display_name": "Python 3",
   "language": "python",
   "name": "python3"
  },
  "language_info": {
   "codemirror_mode": {
    "name": "ipython",
    "version": 3
   },
   "file_extension": ".py",
   "mimetype": "text/x-python",
   "name": "python",
   "nbconvert_exporter": "python",
   "pygments_lexer": "ipython3",
   "version": "3.8.5"
  }
 },
 "nbformat": 4,
 "nbformat_minor": 4
}
